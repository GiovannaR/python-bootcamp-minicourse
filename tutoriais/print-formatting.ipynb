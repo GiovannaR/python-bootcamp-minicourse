{
 "cells": [
  {
   "cell_type": "markdown",
   "metadata": {},
   "source": [
    "# Print e Formatação"
   ]
  },
  {
   "cell_type": "markdown",
   "metadata": {},
   "source": [
    "Primeiramente isto é um print statement em um código python 2:"
   ]
  },
  {
   "cell_type": "code",
   "execution_count": 4,
   "metadata": {},
   "outputs": [
    {
     "name": "stdout",
     "output_type": "stream",
     "text": [
      "Boa tarde pra você!\n"
     ]
    }
   ],
   "source": [
    "print \"Boa tarde pra você!\""
   ]
  },
  {
   "cell_type": "markdown",
   "metadata": {},
   "source": [
    "Porém, o print muda quando em python 3:"
   ]
  },
  {
   "cell_type": "code",
   "execution_count": 5,
   "metadata": {},
   "outputs": [
    {
     "name": "stdout",
     "output_type": "stream",
     "text": [
      "Boa tarde pra você!\n"
     ]
    }
   ],
   "source": [
    "print(\"Boa tarde pra você!\")"
   ]
  },
  {
   "cell_type": "markdown",
   "metadata": {},
   "source": [
    "Isso porque em python 2, o print é um buit-in, e em python 3 é uma função! "
   ]
  },
  {
   "cell_type": "markdown",
   "metadata": {},
   "source": [
    "E basicamente isso é tudo o que você precisa saber sobre prints. Mas coisinhas que facilitam muito a sua vida e deixam seu código mais bonitinho, clean e de qualidade, são os meios de formatação da string final a ser impressa na tela. "
   ]
  },
  {
   "cell_type": "markdown",
   "metadata": {},
   "source": [
    "### Strings"
   ]
  },
  {
   "cell_type": "markdown",
   "metadata": {},
   "source": [
    "Para formatar uma string você pode usar __`%s`__."
   ]
  },
  {
   "cell_type": "code",
   "execution_count": 6,
   "metadata": {},
   "outputs": [
    {
     "name": "stdout",
     "output_type": "stream",
     "text": [
      "Boa tarde Izabela!\n"
     ]
    }
   ],
   "source": [
    "nome = \"Izabela\"\n",
    "print \"Boa tarde %s!\" %(nome)"
   ]
  },
  {
   "cell_type": "markdown",
   "metadata": {},
   "source": [
    "### Inteiros"
   ]
  },
  {
   "cell_type": "markdown",
   "metadata": {},
   "source": [
    "Para a formatação de inteiros usa-se o __`%d`__. É possível também formatar como __`%nd`__, sendo __`n`__ equivalente à um número qualquer, que será o número mínimo de caracteres usados para imprimir aquele número na tela."
   ]
  },
  {
   "cell_type": "code",
   "execution_count": 9,
   "metadata": {},
   "outputs": [
    {
     "name": "stdout",
     "output_type": "stream",
     "text": [
      "10\n"
     ]
    }
   ],
   "source": [
    "print \"%d\" %(10)"
   ]
  },
  {
   "cell_type": "code",
   "execution_count": 10,
   "metadata": {},
   "outputs": [
    {
     "name": "stdout",
     "output_type": "stream",
     "text": [
      "        10\n"
     ]
    }
   ],
   "source": [
    "print \"%10d\" %(10)"
   ]
  },
  {
   "cell_type": "code",
   "execution_count": 11,
   "metadata": {},
   "outputs": [
    {
     "name": "stdout",
     "output_type": "stream",
     "text": [
      "1234567890\n"
     ]
    }
   ],
   "source": [
    "print \"%d\" %(1234567890)"
   ]
  },
  {
   "cell_type": "code",
   "execution_count": 13,
   "metadata": {},
   "outputs": [
    {
     "name": "stdout",
     "output_type": "stream",
     "text": [
      "1234567890\n"
     ]
    }
   ],
   "source": [
    "print \"%5d\" %(1234567890)"
   ]
  },
  {
   "cell_type": "markdown",
   "metadata": {},
   "source": [
    "### Ponto flutuante"
   ]
  },
  {
   "cell_type": "markdown",
   "metadata": {},
   "source": [
    "Para a formatação de números com ponto flutuante usa-se o __`%n1.n2f`__. Sendo __`n1`__ equivalente à um número qualquer, que será o número mínimo de caracteres usados para imprimir aquele número na tela, e __`n2`__ o número exato de casas após o ponto decimal (com arredondamento)."
   ]
  },
  {
   "cell_type": "code",
   "execution_count": 15,
   "metadata": {},
   "outputs": [
    {
     "name": "stdout",
     "output_type": "stream",
     "text": [
      "13.99\n"
     ]
    }
   ],
   "source": [
    "print \"%1.2f\" %(13.987)"
   ]
  },
  {
   "cell_type": "code",
   "execution_count": 16,
   "metadata": {},
   "outputs": [
    {
     "name": "stdout",
     "output_type": "stream",
     "text": [
      "                    13.99\n"
     ]
    }
   ],
   "source": [
    "print \"%25.2f\" %(13.987)"
   ]
  },
  {
   "cell_type": "code",
   "execution_count": 17,
   "metadata": {},
   "outputs": [
    {
     "name": "stdout",
     "output_type": "stream",
     "text": [
      "13.98700\n"
     ]
    }
   ],
   "source": [
    "print \"%1.5f\" %(13.987)"
   ]
  },
  {
   "cell_type": "code",
   "execution_count": 18,
   "metadata": {},
   "outputs": [
    {
     "name": "stdout",
     "output_type": "stream",
     "text": [
      "14\n"
     ]
    }
   ],
   "source": [
    "print \"%1.0f\" %(13.987)"
   ]
  },
  {
   "cell_type": "markdown",
   "metadata": {},
   "source": [
    "### Conversões de formato"
   ]
  },
  {
   "cell_type": "markdown",
   "metadata": {},
   "source": [
    "Nesse estilo de formatação, usando o símbolo de %, é possível utilizar dois métodos para converter qualquer tipo de dado para string: o __`%s`__ e o __`%r`__. A diferença é que o __`%s`__ converte o valor do elemento para uma string. O __`%r`__ converte o elemento para uma string."
   ]
  },
  {
   "cell_type": "code",
   "execution_count": 23,
   "metadata": {},
   "outputs": [
    {
     "name": "stdout",
     "output_type": "stream",
     "text": [
      "Podemos cumprimentar uma pessoa de duas formas: \n",
      "1. olá \n",
      "2. 'oi'\n"
     ]
    }
   ],
   "source": [
    "s1 = 'olá'\n",
    "s2 = 'oi'\n",
    "print \"Podemos cumprimentar uma pessoa de duas formas: \\n1. %s \\n2. %r\" %(s1, s2)"
   ]
  },
  {
   "cell_type": "markdown",
   "metadata": {},
   "source": [
    "Como podemos ver, a formatação usando __`%s`__ retornou o valor da string, já usando o __`%r`__ retornou o elemento string."
   ]
  },
  {
   "cell_type": "markdown",
   "metadata": {},
   "source": [
    "Porém imagine que você precisa fazer múltiplas formatações com múltiplas variáveis. E aí em determinado momento você precisa mudar a ordem de impressão dessas variáveis todas. Vai ser um pouquinho trabalhoso mudar todos os nomes de variáveis em todos os lugares necessários..."
   ]
  },
  {
   "cell_type": "markdown",
   "metadata": {},
   "source": [
    "E para isso existe uma solução: o método __`format()`__. Então agora eu vou te aconselhar a usar o método __`format()`__ sempre que necessário fazer múltiplas formatações em uma mesma string."
   ]
  },
  {
   "cell_type": "markdown",
   "metadata": {},
   "source": [
    "## Utilizando o método `format()`"
   ]
  },
  {
   "cell_type": "markdown",
   "metadata": {},
   "source": [
    "Ao utilizar o método __`format()`__ você pode organizar as suas strings utilizando variáveis ou dados diretamente, de acordo com os exemplos:"
   ]
  },
  {
   "cell_type": "code",
   "execution_count": 27,
   "metadata": {},
   "outputs": [
    {
     "name": "stdout",
     "output_type": "stream",
     "text": [
      "Olha isso: Eu posso formatar uma string de diferentes maneiras.\n"
     ]
    }
   ],
   "source": [
    "print \"Olha isso: Eu posso {} uma string de {} maneiras.\".format('formatar', 'diferentes')"
   ]
  },
  {
   "cell_type": "code",
   "execution_count": 28,
   "metadata": {},
   "outputs": [
    {
     "name": "stdout",
     "output_type": "stream",
     "text": [
      "E também posso alterá-la assim: Eu posso diferentes uma string de formatar maneiras.\n"
     ]
    }
   ],
   "source": [
    "print \"E também posso alterá-la assim: Eu posso {1} uma string de {0} maneiras.\".format('formatar', 'diferentes')"
   ]
  },
  {
   "cell_type": "code",
   "execution_count": 31,
   "metadata": {},
   "outputs": [
    {
     "name": "stdout",
     "output_type": "stream",
     "text": [
      "Olha mais essa: Eu posso formatar uma string de diferentes maneiras.\n"
     ]
    }
   ],
   "source": [
    "print \"Olha mais essa: Eu posso {var1} uma string de {var2} maneiras.\".format(var1 = 'formatar', var2 = 'diferentes')"
   ]
  },
  {
   "cell_type": "markdown",
   "metadata": {},
   "source": [
    "Nota-se que neste último exemplo, a atribuição de valores às variáveis deve ser feita obrigatoriamente dentro do __`format()`__."
   ]
  },
  {
   "cell_type": "code",
   "execution_count": null,
   "metadata": {
    "collapsed": true
   },
   "outputs": [],
   "source": []
  }
 ],
 "metadata": {
  "kernelspec": {
   "display_name": "Python 2",
   "language": "python",
   "name": "python2"
  },
  "language_info": {
   "codemirror_mode": {
    "name": "ipython",
    "version": 2
   },
   "file_extension": ".py",
   "mimetype": "text/x-python",
   "name": "python",
   "nbconvert_exporter": "python",
   "pygments_lexer": "ipython2",
   "version": "2.7.13"
  }
 },
 "nbformat": 4,
 "nbformat_minor": 2
}
