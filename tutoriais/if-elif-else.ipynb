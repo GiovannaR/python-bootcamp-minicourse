{
 "cells": [
  {
   "cell_type": "markdown",
   "metadata": {},
   "source": [
    "# if, elif, e else \n",
    "\n",
    "As declarações de `if`, `elif` e `else` dizem ao computador que ação tomar caso `x` coisa aconteça. Por exemplo:\n",
    "\n",
    "\"Olha, `if` isso acontecer, faça tal coisa.\"\n",
    "\n",
    "Mas podemos também aumentar as possibilidades do nosso programa usando `elif` (o `else if` no Java):\n",
    "\n",
    "\"Olha, `if` isso acontecer, faça tal coisa. `elif` outra coisa acontecer, faça essa outra coisa. Agora, `else` nenhuma dessas coisas acontecerem, faça tal coisa.\"\n",
    "\n",
    "A sintaxe é a seguinte:\n",
    "\n",
    "    if case1:\n",
    "        execute action1\n",
    "    elif case2:\n",
    "        execute action2\n",
    "    else: \n",
    "        execute action 3"
   ]
  },
  {
   "cell_type": "markdown",
   "metadata": {},
   "source": [
    "## if, else:\n",
    "\n"
   ]
  },
  {
   "cell_type": "code",
   "execution_count": 1,
   "metadata": {},
   "outputs": [
    {
     "name": "stdout",
     "output_type": "stream",
     "text": [
      "Verdadeiro!\n"
     ]
    }
   ],
   "source": [
    "if True:\n",
    "    print 'Verdadeiro!'"
   ]
  },
  {
   "cell_type": "markdown",
   "metadata": {},
   "source": [
    "Agora vamos usar alguma lógica:"
   ]
  },
  {
   "cell_type": "code",
   "execution_count": 2,
   "metadata": {},
   "outputs": [
    {
     "name": "stdout",
     "output_type": "stream",
     "text": [
      "Impresso na tela sempre que x falso\n"
     ]
    }
   ],
   "source": [
    "x = False\n",
    "\n",
    "if x:\n",
    "    print 'x verdadeiro!'\n",
    "else:\n",
    "    print 'Impresso na tela sempre que x falso'"
   ]
  },
  {
   "cell_type": "markdown",
   "metadata": {},
   "source": [
    "## if, elif, else\n",
    "\n"
   ]
  },
  {
   "cell_type": "code",
   "execution_count": 5,
   "metadata": {},
   "outputs": [
    {
     "name": "stdout",
     "output_type": "stream",
     "text": [
      "Bem vindo ao banco!\n"
     ]
    }
   ],
   "source": [
    "local = 'Banco'\n",
    "\n",
    "if local == 'Loja':\n",
    "    print 'Bem vindo a loja!'\n",
    "elif local == 'Banco':\n",
    "    print 'Bem vindo ao banco!'\n",
    "else:\n",
    "    print \"Onde eu estou?\""
   ]
  },
  {
   "cell_type": "markdown",
   "metadata": {},
   "source": [
    "Note que o interpretador do Python checa cada declaração od tipo `if`e `elif` até chegar ao verdadeiro. Saiba também que você pode colocar quantos `elif`'s precisar no seu código até chegar à um `else`.\n",
    "\n",
    "Let's create two more simple examples for the if,elif, and else statements:"
   ]
  },
  {
   "cell_type": "code",
   "execution_count": 6,
   "metadata": {},
   "outputs": [
    {
     "name": "stdout",
     "output_type": "stream",
     "text": [
      "Bem vindo Samuel!\n"
     ]
    }
   ],
   "source": [
    "pessoa = 'Fred'\n",
    "\n",
    "if pessoa == 'Fred':\n",
    "    print 'Bem vindo Fred!'\n",
    "else:\n",
    "    print \"Bem vindo, qual o seu nome?\" "
   ]
  },
  {
   "cell_type": "code",
   "execution_count": 8,
   "metadata": {},
   "outputs": [
    {
     "name": "stdout",
     "output_type": "stream",
     "text": [
      "Bem vindo George!\n"
     ]
    }
   ],
   "source": [
    "pessoa = 'George'\n",
    "\n",
    "if pessoa == 'Fred':\n",
    "    print 'Bem vindo Fred!'\n",
    "elif pessoa =='George':\n",
    "    print \"Bem vindo George!\"\n",
    "else:\n",
    "    print \"Bem vindo, qual o seu nome?\" "
   ]
  },
  {
   "cell_type": "markdown",
   "metadata": {},
   "source": [
    "## Indentação\n",
    "\n",
    "É necessário observar que o código dentro de blocos específicos, como `if`, `elif`, e `else` e `for`, e `while` são necessários para o código conseguir ser interpretado."
   ]
  },
  {
   "cell_type": "code",
   "execution_count": null,
   "metadata": {
    "collapsed": true
   },
   "outputs": [],
   "source": []
  }
 ],
 "metadata": {
  "kernelspec": {
   "display_name": "Python 2",
   "language": "python",
   "name": "python2"
  },
  "language_info": {
   "codemirror_mode": {
    "name": "ipython",
    "version": 2
   },
   "file_extension": ".py",
   "mimetype": "text/x-python",
   "name": "python",
   "nbconvert_exporter": "python",
   "pygments_lexer": "ipython2",
   "version": "2.7.13"
  }
 },
 "nbformat": 4,
 "nbformat_minor": 1
}
